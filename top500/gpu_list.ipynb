{
 "cells": [
  {
   "cell_type": "code",
   "execution_count": 16,
   "metadata": {},
   "outputs": [],
   "source": [
    "from __future__ import print_function\n",
    "\n",
    "import pandas as pd\n",
    "\n",
    "import sys"
   ]
  },
  {
   "cell_type": "code",
   "execution_count": 17,
   "metadata": {},
   "outputs": [
    {
     "name": "stdout",
     "output_type": "stream",
     "text": [
      "3\n"
     ]
    }
   ],
   "source": [
    "print(sys.version_info.major)"
   ]
  },
  {
   "cell_type": "code",
   "execution_count": 19,
   "metadata": {},
   "outputs": [],
   "source": [
    "def report_gpu(infile):\n",
    "    df = pd.read_excel(infile)\n",
    "    gpu_counts,nvidia_gpu,amd_gpu,intel_gpu  = 0,0,0,0\n",
    "\n",
    "    for items in df['Accelerator/Co-Processor']:\n",
    "        coproc = items.upper()\n",
    "        if \"NVIDIA\" in coproc:\n",
    "            gpu_counts = gpu_counts + 1\n",
    "            nvidia_gpu = nvidia_gpu + 1\n",
    "        if \"AMD\" in coproc:\n",
    "            gpu_counts = gpu_counts + 1\n",
    "            amd_gpu = amd_gpu + 1\n",
    "        if \"XEON\" in coproc:\n",
    "            intel_gpu = intel_gpu + 1\n",
    "            gpu_counts = gpu_counts + 1\n",
    "\n",
    "    return gpu_counts, nvidia_gpu, amd_gpu, intel_gpu\n",
    "\n",
    "def log_detail(gpu_counts, nvidia_gpu, amd_gpu, intel_gpu):\n",
    "    print(\"There are %d GPU systems in Top-500 Suppercomputers. (%.1f%%)\" % (gpu_counts, gpu_counts / 500.0 * 100.0) )\n",
    "    print(\"-------------------------------------------------------------\")\n",
    "    print(\"NVIDIA\\t\\t : %d of %d = %0.1f%%\" % (nvidia_gpu, gpu_counts, nvidia_gpu / float(gpu_counts) * 100.0))\n",
    "    print(\"AMD\\t\\t : %d of %d = %0.1f%%\" % (amd_gpu, gpu_counts, amd_gpu / float(gpu_counts) * 100.0))\n",
    "    print(\"Intel(Xeon Phi)\\t : %d of %d = %0.1f%%\" % (intel_gpu, gpu_counts, intel_gpu / float(gpu_counts) * 100.0))\n",
    "    print(\"-------------------------------------------------------------\")\n",
    "    \n",
    "    \n",
    "# def log_detail(gpu_counts, nvidia_gpu, amd_gpu, intel_gpu):\n",
    "#     print \"There are %d GPU systems in Top-500 Suppercomputers. (%.1f%%)\" % (gpu_counts, gpu_counts / 500.0 * 100.0)\n",
    "#     print \"-------------------------------------------------------------\"\n",
    "#     print \"NVIDIA\\t\\t : %d of %d = %0.1f%%\" % (nvidia_gpu, gpu_counts, nvidia_gpu / float(gpu_counts) * 100.0)\n",
    "#     print \"AMD\\t\\t : %d of %d = %0.1f%%\" % (amd_gpu, gpu_counts, amd_gpu / float(gpu_counts) * 100.0)\n",
    "#     print \"Intel(Xeon Phi)\\t : %d of %d = %0.1f%%\" % (intel_gpu, gpu_counts, intel_gpu / float(gpu_counts) * 100.0)\n",
    "#     print \"-------------------------------------------------------------\""
   ]
  },
  {
   "cell_type": "markdown",
   "metadata": {},
   "source": [
    "### nov 2017"
   ]
  },
  {
   "cell_type": "code",
   "execution_count": null,
   "metadata": {},
   "outputs": [],
   "source": [
    "gpu_counts, nvidia_gpu, amd_gpu, intel_gpu = report_gpu('TOP500_201711.xls')\n",
    "log_detail(gpu_counts, nvidia_gpu, amd_gpu, intel_gpu)"
   ]
  },
  {
   "cell_type": "markdown",
   "metadata": {},
   "source": [
    "### june 2017"
   ]
  },
  {
   "cell_type": "code",
   "execution_count": null,
   "metadata": {},
   "outputs": [],
   "source": [
    "gpu_counts, nvidia_gpu, amd_gpu, intel_gpu = report_gpu('TOP500_201706.xls')\n",
    "log_detail(gpu_counts, nvidia_gpu, amd_gpu, intel_gpu)"
   ]
  },
  {
   "cell_type": "markdown",
   "metadata": {},
   "source": [
    "### nov 2016"
   ]
  },
  {
   "cell_type": "code",
   "execution_count": null,
   "metadata": {},
   "outputs": [],
   "source": [
    "gpu_counts, nvidia_gpu, amd_gpu, intel_gpu = report_gpu('TOP500_201611.xls')\n",
    "log_detail(gpu_counts, nvidia_gpu, amd_gpu, intel_gpu)"
   ]
  },
  {
   "cell_type": "markdown",
   "metadata": {},
   "source": [
    "### june 2016"
   ]
  },
  {
   "cell_type": "code",
   "execution_count": null,
   "metadata": {},
   "outputs": [],
   "source": [
    "gpu_counts, nvidia_gpu, amd_gpu, intel_gpu = report_gpu('TOP500_201606.xls')\n",
    "log_detail(gpu_counts, nvidia_gpu, amd_gpu, intel_gpu)"
   ]
  },
  {
   "cell_type": "markdown",
   "metadata": {},
   "source": [
    "### nov 2015"
   ]
  },
  {
   "cell_type": "code",
   "execution_count": null,
   "metadata": {},
   "outputs": [],
   "source": [
    "gpu_counts, nvidia_gpu, amd_gpu, intel_gpu = report_gpu('TOP500_201511.xls')\n",
    "log_detail(gpu_counts, nvidia_gpu, amd_gpu, intel_gpu)"
   ]
  }
 ],
 "metadata": {
  "anaconda-cloud": {},
  "kernelspec": {
   "display_name": "Python 3",
   "language": "python",
   "name": "python3"
  },
  "language_info": {
   "codemirror_mode": {
    "name": "ipython",
    "version": 3
   },
   "file_extension": ".py",
   "mimetype": "text/x-python",
   "name": "python",
   "nbconvert_exporter": "python",
   "pygments_lexer": "ipython3",
   "version": "3.7.3"
  }
 },
 "nbformat": 4,
 "nbformat_minor": 1
}
