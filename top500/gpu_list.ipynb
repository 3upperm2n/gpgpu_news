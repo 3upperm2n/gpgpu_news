{
 "cells": [
  {
   "cell_type": "code",
   "execution_count": 20,
   "metadata": {},
   "outputs": [],
   "source": [
    "from __future__ import print_function\n",
    "\n",
    "import pandas as pd\n",
    "\n",
    "import sys"
   ]
  },
  {
   "cell_type": "code",
   "execution_count": 21,
   "metadata": {},
   "outputs": [
    {
     "name": "stdout",
     "output_type": "stream",
     "text": [
      "3\n"
     ]
    }
   ],
   "source": [
    "print(sys.version_info.major)"
   ]
  },
  {
   "cell_type": "code",
   "execution_count": 22,
   "metadata": {},
   "outputs": [],
   "source": [
    "def report_gpu(infile):\n",
    "    df = pd.read_excel(infile)\n",
    "    gpu_counts,nvidia_gpu,amd_gpu,intel_gpu  = 0,0,0,0\n",
    "\n",
    "    for items in df['Accelerator/Co-Processor']:\n",
    "        coproc = items.upper()\n",
    "        if \"NVIDIA\" in coproc:\n",
    "            gpu_counts = gpu_counts + 1\n",
    "            nvidia_gpu = nvidia_gpu + 1\n",
    "        if \"AMD\" in coproc:\n",
    "            gpu_counts = gpu_counts + 1\n",
    "            amd_gpu = amd_gpu + 1\n",
    "        if \"XEON\" in coproc:\n",
    "            intel_gpu = intel_gpu + 1\n",
    "            gpu_counts = gpu_counts + 1\n",
    "\n",
    "    return gpu_counts, nvidia_gpu, amd_gpu, intel_gpu\n",
    "\n",
    "def log_detail(gpu_counts, nvidia_gpu, amd_gpu, intel_gpu):\n",
    "    print(\"There are %d GPU systems in Top-500 Suppercomputers. (%.1f%%)\" % (gpu_counts, gpu_counts / 500.0 * 100.0) )\n",
    "    print(\"-------------------------------------------------------------\")\n",
    "    print(\"NVIDIA\\t\\t : %d of %d = %0.1f%%\" % (nvidia_gpu, gpu_counts, nvidia_gpu / float(gpu_counts) * 100.0))\n",
    "    print(\"AMD\\t\\t : %d of %d = %0.1f%%\" % (amd_gpu, gpu_counts, amd_gpu / float(gpu_counts) * 100.0))\n",
    "    print(\"Intel(Xeon Phi)\\t : %d of %d = %0.1f%%\" % (intel_gpu, gpu_counts, intel_gpu / float(gpu_counts) * 100.0))\n",
    "    print(\"-------------------------------------------------------------\")\n",
    "    \n",
    "    \n",
    "# def log_detail(gpu_counts, nvidia_gpu, amd_gpu, intel_gpu):\n",
    "#     print \"There are %d GPU systems in Top-500 Suppercomputers. (%.1f%%)\" % (gpu_counts, gpu_counts / 500.0 * 100.0)\n",
    "#     print \"-------------------------------------------------------------\"\n",
    "#     print \"NVIDIA\\t\\t : %d of %d = %0.1f%%\" % (nvidia_gpu, gpu_counts, nvidia_gpu / float(gpu_counts) * 100.0)\n",
    "#     print \"AMD\\t\\t : %d of %d = %0.1f%%\" % (amd_gpu, gpu_counts, amd_gpu / float(gpu_counts) * 100.0)\n",
    "#     print \"Intel(Xeon Phi)\\t : %d of %d = %0.1f%%\" % (intel_gpu, gpu_counts, intel_gpu / float(gpu_counts) * 100.0)\n",
    "#     print \"-------------------------------------------------------------\""
   ]
  },
  {
   "cell_type": "markdown",
   "metadata": {},
   "source": [
    "### June 2020"
   ]
  },
  {
   "cell_type": "code",
   "execution_count": 29,
   "metadata": {},
   "outputs": [
    {
     "name": "stdout",
     "output_type": "stream",
     "text": [
      "There are 143 GPU systems in Top-500 Suppercomputers. (28.6%)\n",
      "-------------------------------------------------------------\n",
      "NVIDIA\t\t : 136 of 143 = 95.1%\n",
      "AMD\t\t : 1 of 143 = 0.7%\n",
      "Intel(Xeon Phi)\t : 6 of 143 = 4.2%\n",
      "-------------------------------------------------------------\n"
     ]
    }
   ],
   "source": [
    "gpu_counts, nvidia_gpu, amd_gpu, intel_gpu = report_gpu('TOP500_202006.xlsx')\n",
    "log_detail(gpu_counts, nvidia_gpu, amd_gpu, intel_gpu)"
   ]
  },
  {
   "cell_type": "markdown",
   "metadata": {},
   "source": [
    "### nov 2017"
   ]
  },
  {
   "cell_type": "code",
   "execution_count": 23,
   "metadata": {},
   "outputs": [
    {
     "name": "stdout",
     "output_type": "stream",
     "text": [
      "There are 99 GPU systems in Top-500 Suppercomputers. (19.8%)\n",
      "-------------------------------------------------------------\n",
      "NVIDIA\t\t : 87 of 99 = 87.9%\n",
      "AMD\t\t : 0 of 99 = 0.0%\n",
      "Intel(Xeon Phi)\t : 12 of 99 = 12.1%\n",
      "-------------------------------------------------------------\n"
     ]
    }
   ],
   "source": [
    "gpu_counts, nvidia_gpu, amd_gpu, intel_gpu = report_gpu('TOP500_201711.xls')\n",
    "log_detail(gpu_counts, nvidia_gpu, amd_gpu, intel_gpu)"
   ]
  },
  {
   "cell_type": "markdown",
   "metadata": {},
   "source": [
    "### june 2017"
   ]
  },
  {
   "cell_type": "code",
   "execution_count": 24,
   "metadata": {},
   "outputs": [
    {
     "name": "stdout",
     "output_type": "stream",
     "text": [
      "There are 91 GPU systems in Top-500 Suppercomputers. (18.2%)\n",
      "-------------------------------------------------------------\n",
      "NVIDIA\t\t : 74 of 91 = 81.3%\n",
      "AMD\t\t : 1 of 91 = 1.1%\n",
      "Intel(Xeon Phi)\t : 16 of 91 = 17.6%\n",
      "-------------------------------------------------------------\n"
     ]
    }
   ],
   "source": [
    "gpu_counts, nvidia_gpu, amd_gpu, intel_gpu = report_gpu('TOP500_201706.xls')\n",
    "log_detail(gpu_counts, nvidia_gpu, amd_gpu, intel_gpu)"
   ]
  },
  {
   "cell_type": "markdown",
   "metadata": {},
   "source": [
    "### nov 2016"
   ]
  },
  {
   "cell_type": "code",
   "execution_count": 25,
   "metadata": {},
   "outputs": [
    {
     "name": "stdout",
     "output_type": "stream",
     "text": [
      "There are 88 GPU systems in Top-500 Suppercomputers. (17.6%)\n",
      "-------------------------------------------------------------\n",
      "NVIDIA\t\t : 63 of 88 = 71.6%\n",
      "AMD\t\t : 1 of 88 = 1.1%\n",
      "Intel(Xeon Phi)\t : 24 of 88 = 27.3%\n",
      "-------------------------------------------------------------\n"
     ]
    }
   ],
   "source": [
    "gpu_counts, nvidia_gpu, amd_gpu, intel_gpu = report_gpu('TOP500_201611.xls')\n",
    "log_detail(gpu_counts, nvidia_gpu, amd_gpu, intel_gpu)"
   ]
  },
  {
   "cell_type": "markdown",
   "metadata": {},
   "source": [
    "### june 2016"
   ]
  },
  {
   "cell_type": "code",
   "execution_count": 26,
   "metadata": {},
   "outputs": [
    {
     "name": "stdout",
     "output_type": "stream",
     "text": [
      "There are 94 GPU systems in Top-500 Suppercomputers. (18.8%)\n",
      "-------------------------------------------------------------\n",
      "NVIDIA\t\t : 66 of 94 = 70.2%\n",
      "AMD\t\t : 2 of 94 = 2.1%\n",
      "Intel(Xeon Phi)\t : 26 of 94 = 27.7%\n",
      "-------------------------------------------------------------\n"
     ]
    }
   ],
   "source": [
    "gpu_counts, nvidia_gpu, amd_gpu, intel_gpu = report_gpu('TOP500_201606.xls')\n",
    "log_detail(gpu_counts, nvidia_gpu, amd_gpu, intel_gpu)"
   ]
  },
  {
   "cell_type": "markdown",
   "metadata": {},
   "source": [
    "### nov 2015"
   ]
  },
  {
   "cell_type": "code",
   "execution_count": 27,
   "metadata": {},
   "outputs": [
    {
     "name": "stdout",
     "output_type": "stream",
     "text": [
      "There are 103 GPU systems in Top-500 Suppercomputers. (20.6%)\n",
      "-------------------------------------------------------------\n",
      "NVIDIA\t\t : 69 of 103 = 67.0%\n",
      "AMD\t\t : 2 of 103 = 1.9%\n",
      "Intel(Xeon Phi)\t : 32 of 103 = 31.1%\n",
      "-------------------------------------------------------------\n"
     ]
    }
   ],
   "source": [
    "gpu_counts, nvidia_gpu, amd_gpu, intel_gpu = report_gpu('TOP500_201511.xls')\n",
    "log_detail(gpu_counts, nvidia_gpu, amd_gpu, intel_gpu)"
   ]
  }
 ],
 "metadata": {
  "anaconda-cloud": {},
  "kernelspec": {
   "display_name": "Python 3",
   "language": "python",
   "name": "python3"
  },
  "language_info": {
   "codemirror_mode": {
    "name": "ipython",
    "version": 3
   },
   "file_extension": ".py",
   "mimetype": "text/x-python",
   "name": "python",
   "nbconvert_exporter": "python",
   "pygments_lexer": "ipython3",
   "version": "3.7.3"
  }
 },
 "nbformat": 4,
 "nbformat_minor": 1
}
