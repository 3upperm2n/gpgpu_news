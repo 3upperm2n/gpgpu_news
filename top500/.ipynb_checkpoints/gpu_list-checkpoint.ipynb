{
 "cells": [
  {
   "cell_type": "code",
   "execution_count": 1,
   "metadata": {
    "collapsed": true,
    "deletable": true,
    "editable": true
   },
   "outputs": [],
   "source": [
    "import pandas as pd"
   ]
  },
  {
   "cell_type": "code",
   "execution_count": 32,
   "metadata": {
    "collapsed": true
   },
   "outputs": [],
   "source": [
    "def report_gpu(infile):\n",
    "    df = pd.read_excel(infile)\n",
    "    gpu_counts,nvidia_gpu,amd_gpu,intel_gpu  = 0,0,0,0\n",
    "\n",
    "    for items in df['Accelerator/Co-Processor']:\n",
    "        coproc = items.upper()\n",
    "        if \"NVIDIA\" in coproc:\n",
    "            gpu_counts = gpu_counts + 1\n",
    "            nvidia_gpu = nvidia_gpu + 1\n",
    "        if \"AMD\" in coproc:\n",
    "            gpu_counts = gpu_counts + 1\n",
    "            amd_gpu = amd_gpu + 1\n",
    "        if \"XEON\" in coproc:\n",
    "            intel_gpu = intel_gpu + 1\n",
    "            gpu_counts = gpu_counts + 1\n",
    "\n",
    "    return gpu_counts, nvidia_gpu, amd_gpu, intel_gpu\n",
    "            \n",
    "\n",
    "def log_detail(gpu_counts, nvidia_gpu, amd_gpu, intel_gpu):\n",
    "    print \"There are %d GPU systems in Top-500 Suppercomputers. (%.1f%%)\" % (gpu_counts, gpu_counts / 500.0 * 100.0)\n",
    "    print \"-------------------------------------------------------------\"\n",
    "    print \"NVIDIA\\t\\t : %d of %d = %0.1f%%\" % (nvidia_gpu, gpu_counts, nvidia_gpu / float(gpu_counts) * 100.0)\n",
    "    print \"AMD\\t\\t : %d of %d = %0.1f%%\" % (amd_gpu, gpu_counts, amd_gpu / float(gpu_counts) * 100.0)\n",
    "    print \"Intel(Xeon Phi)\\t : %d of %d = %0.1f%%\" % (intel_gpu, gpu_counts, intel_gpu / float(gpu_counts) * 100.0)\n",
    "    print \"-------------------------------------------------------------\""
   ]
  },
  {
   "cell_type": "markdown",
   "metadata": {},
   "source": [
    "### june 2016"
   ]
  },
  {
   "cell_type": "code",
   "execution_count": 33,
   "metadata": {
    "collapsed": false,
    "deletable": true,
    "editable": true
   },
   "outputs": [
    {
     "name": "stdout",
     "output_type": "stream",
     "text": [
      "There are 94 GPU systems in Top-500 Suppercomputers. (18.8%)\n",
      "-------------------------------------------------------------\n",
      "NVIDIA\t\t : 66 of 94 = 70.2%\n",
      "AMD\t\t : 2 of 94 = 2.1%\n",
      "Intel(Xeon Phi)\t : 26 of 94 = 27.7%\n",
      "-------------------------------------------------------------\n"
     ]
    }
   ],
   "source": [
    "gpu_counts, nvidia_gpu, amd_gpu, intel_gpu = report_gpu('TOP500_201606.xls')\n",
    "log_detail(gpu_counts, nvidia_gpu, amd_gpu, intel_gpu)"
   ]
  },
  {
   "cell_type": "markdown",
   "metadata": {},
   "source": [
    "### june 2017"
   ]
  },
  {
   "cell_type": "code",
   "execution_count": 34,
   "metadata": {
    "collapsed": false
   },
   "outputs": [
    {
     "name": "stdout",
     "output_type": "stream",
     "text": [
      "There are 91 GPU systems in Top-500 Suppercomputers. (18.2%)\n",
      "-------------------------------------------------------------\n",
      "NVIDIA\t\t : 74 of 91 = 81.3%\n",
      "AMD\t\t : 1 of 91 = 1.1%\n",
      "Intel(Xeon Phi)\t : 16 of 91 = 17.6%\n",
      "-------------------------------------------------------------\n"
     ]
    }
   ],
   "source": [
    "gpu_counts, nvidia_gpu, amd_gpu, intel_gpu = report_gpu('TOP500_201706.xls')\n",
    "log_detail(gpu_counts, nvidia_gpu, amd_gpu, intel_gpu)"
   ]
  }
 ],
 "metadata": {
  "anaconda-cloud": {},
  "kernelspec": {
   "display_name": "Python [default]",
   "language": "python",
   "name": "python2"
  },
  "language_info": {
   "codemirror_mode": {
    "name": "ipython",
    "version": 2
   },
   "file_extension": ".py",
   "mimetype": "text/x-python",
   "name": "python",
   "nbconvert_exporter": "python",
   "pygments_lexer": "ipython2",
   "version": "2.7.13"
  }
 },
 "nbformat": 4,
 "nbformat_minor": 1
}
